{
 "cells": [
  {
   "cell_type": "markdown",
   "id": "5608f881",
   "metadata": {},
   "source": [
    "## CPC353: Natural Language Processing"
   ]
  },
  {
   "cell_type": "markdown",
   "id": "28cb7328",
   "metadata": {},
   "source": [
    "### Title: Speaker Change Detection Using F0 and MFCC Features with the IEMOCAP Dataset"
   ]
  },
  {
   "cell_type": "markdown",
   "id": "addf5320",
   "metadata": {},
   "source": [
    "#### Group Information\n",
    "\n",
    "- Member 1: Chau Hong Feng (164823)\n",
    "- Member 2: Ooi Jin Shen (163919)"
   ]
  },
  {
   "cell_type": "markdown",
   "id": "8003aab0",
   "metadata": {},
   "source": [
    "### *1. Prepare the dataset*"
   ]
  },
  {
   "cell_type": "markdown",
   "id": "99f4fb71",
   "metadata": {},
   "source": [
    "#### Import libraries"
   ]
  },
  {
   "cell_type": "code",
   "execution_count": 1,
   "id": "f3a38b7b",
   "metadata": {},
   "outputs": [],
   "source": [
    "import pandas as pd\n",
    "import numpy as np\n",
    "import matplotlib.pyplot as plt\n",
    "import os\n",
    "import librosa\n",
    "import librosa.display\n",
    "import parselmouth\n",
    "from sklearn.metrics import precision_score, recall_score, f1_score\n",
    "from tqdm import tqdm\n",
    "from scipy.interpolate import interp1d\n",
    "from scipy.signal import savgol_filter\n",
    "from sklearn.model_selection import train_test_split\n",
    "from sklearn.metrics import classification_report, confusion_matrix, precision_recall_fscore_support\n",
    "from sklearn.preprocessing import StandardScaler\n",
    "from sklearn.utils.class_weight import compute_class_weight\n",
    "from imblearn.over_sampling import SMOTE\n",
    "import tensorflow as tf\n",
    "from tensorflow.keras.models import Sequential\n",
    "from tensorflow.keras.layers import Dense, Dropout, BatchNormalization, LSTM\n",
    "from tensorflow.keras.optimizers import Adam\n",
    "from sklearn.metrics import classification_report, f1_score, precision_score, recall_score"
   ]
  },
  {
   "cell_type": "markdown",
   "id": "761f56f0",
   "metadata": {},
   "source": [
    "#### Path to folders"
   ]
  },
  {
   "cell_type": "code",
   "execution_count": 2,
   "id": "807a5f80",
   "metadata": {},
   "outputs": [],
   "source": [
    "# Path to the folders\n",
    "audio_folder = 'C:/Users/waipe/OneDrive/Desktop/Y3/Semester I/CPC353 Natural Language Processing/Assignment 2/IEMOCAP/IEMOCAP/'\n",
    "rttm_folder = \"C:/Users/waipe/OneDrive/Desktop/Y3/Semester I/CPC353 Natural Language Processing/Assignment 2/IEMOCAP/IEMOCAP/reference\""
   ]
  },
  {
   "cell_type": "markdown",
   "id": "0c8fcd22",
   "metadata": {},
   "source": [
    "#### Global Variables"
   ]
  },
  {
   "cell_type": "code",
   "execution_count": 3,
   "id": "bd8352dc",
   "metadata": {},
   "outputs": [],
   "source": [
    "# Global Variables\n",
    "SAMPLE_RATE = 16000\n",
    "N_MFCC = 13\n",
    "FRAME_LENGTH = 1.0  \n",
    "FRAME_OVERLAP = 0.5  "
   ]
  },
  {
   "cell_type": "markdown",
   "id": "4e5e255a",
   "metadata": {},
   "source": [
    "### 2. Feature Extraction"
   ]
  },
  {
   "cell_type": "code",
   "execution_count": 4,
   "id": "6413c0ee",
   "metadata": {},
   "outputs": [],
   "source": [
    "# Retrieve all .wav files from the given audio folder\n",
    "def get_wav_files(audio_folder):\n",
    "    wav_files = []\n",
    "    for session in range(1, 7):  # Assuming 6 sessions\n",
    "        wav_folder = os.path.join(audio_folder, f'Session{session}', 'dialog', 'wav')\n",
    "        if os.path.isdir(wav_folder):\n",
    "            for wav_file in os.listdir(wav_folder):\n",
    "                if wav_file.endswith('.wav'):\n",
    "                    wav_path = os.path.join(wav_folder, wav_file)\n",
    "                    if os.path.isfile(wav_path):  # Ensure it's a valid file\n",
    "                        wav_files.append(wav_path)\n",
    "    return wav_files"
   ]
  },
  {
   "cell_type": "code",
   "execution_count": 5,
   "id": "aacd5571",
   "metadata": {},
   "outputs": [],
   "source": [
    "# Extract MFCC features from a single .wav file\n",
    "def extract_mfcc_features(wav_path, n_mfcc=N_MFCC, frame_length=FRAME_LENGTH, frame_overlap=FRAME_OVERLAP, sample_rate=SAMPLE_RATE):\n",
    "    try:\n",
    "        y, sr = librosa.load(wav_path, sr=sample_rate)\n",
    "        \n",
    "        frame_length_samples = int(frame_length * sr)\n",
    "        \n",
    "        hop_length_samples = int(frame_overlap * sr)\n",
    "        \n",
    "        mfcc = librosa.feature.mfcc(\n",
    "            y=y, sr=sr, n_mfcc=n_mfcc,\n",
    "            n_fft=frame_length_samples,\n",
    "            hop_length=hop_length_samples\n",
    "        )\n",
    "        return mfcc.T  # Transpose to have time steps as rows\n",
    "    except Exception as e:\n",
    "        print(f\"Error processing {wav_path}: {e}\")\n",
    "        return None"
   ]
  },
  {
   "cell_type": "code",
   "execution_count": 6,
   "id": "c22551a7",
   "metadata": {},
   "outputs": [],
   "source": [
    "# Extract f0 features from a single .wav file\n",
    "def extract_f0(wav_path, pitch_floor=75, pitch_ceiling=600, interpolation=True, smoothing=True):\n",
    "    try:\n",
    "        # Load the audio file using parselmouth\n",
    "        sound = parselmouth.Sound(wav_path)\n",
    "\n",
    "        # Extract pitch using the specified pitch range\n",
    "        pitch = sound.to_pitch(pitch_floor=pitch_floor, pitch_ceiling=pitch_ceiling)\n",
    "        f0 = pitch.selected_array['frequency']\n",
    "\n",
    "        # Replace 0 with NaN to indicate unvoiced regions\n",
    "        f0[f0 == 0] = np.nan\n",
    "\n",
    "        # Interpolate missing values\n",
    "        if interpolation:\n",
    "            valid_mask = ~np.isnan(f0)\n",
    "            if np.any(valid_mask):  # Check if there are valid F0 values\n",
    "                interp_func = interp1d(\n",
    "                    np.where(valid_mask)[0],  # Indices of valid F0 values\n",
    "                    f0[valid_mask],          # Valid F0 values\n",
    "                    kind='linear',           # Linear interpolation\n",
    "                    fill_value=\"extrapolate\" # Extrapolate for edge cases\n",
    "                )\n",
    "                f0 = interp_func(np.arange(len(f0)))  # Interpolate all values\n",
    "            else:\n",
    "                f0 = np.zeros_like(f0)  # If no valid F0, return zeros\n",
    "\n",
    "        # Smooth the F0 contour\n",
    "        if smoothing and len(f0) > 0:\n",
    "            f0 = savgol_filter(f0, window_length=5, polyorder=2)\n",
    "\n",
    "        return f0\n",
    "\n",
    "    except Exception as e:\n",
    "        print(f\"Error processing {wav_path}: {e}\")\n",
    "        return None"
   ]
  },
  {
   "cell_type": "code",
   "execution_count": 7,
   "id": "62f1341b",
   "metadata": {},
   "outputs": [],
   "source": [
    "# Plot the features\n",
    "def plot_features(wav_path, mfcc, f0, sample_rate=SAMPLE_RATE, frame_overlap=FRAME_OVERLAP):\n",
    "    plt.figure(figsize=(10, 6))\n",
    "\n",
    "    # Load the audio file to get the duration\n",
    "    y, sr = librosa.load(wav_path, sr=sample_rate)\n",
    "    duration = librosa.get_duration(y=y, sr=sr)\n",
    "\n",
    "    # Plot MFCC\n",
    "    plt.subplot(2, 1, 1)\n",
    "    librosa.display.specshow(mfcc.T, x_axis='time', sr=sample_rate, hop_length=int(frame_overlap * sample_rate))\n",
    "    plt.colorbar(label='MFCC')\n",
    "    plt.title(f'MFCCs for {os.path.basename(wav_path)}')\n",
    "\n",
    "    # Plot F0 (Fundamental Frequency)\n",
    "    plt.subplot(2, 1, 2)\n",
    "    # Adjust the time vector to reflect the full duration of the audio\n",
    "    times = np.linspace(0, duration, len(f0))\n",
    "    plt.plot(times, f0, label='F0 (Pitch)', color='r')\n",
    "    plt.xlabel('Time (s)')\n",
    "    plt.ylabel('Frequency (Hz)')\n",
    "    plt.title(f'Fundamental Frequency (F0) for {os.path.basename(wav_path)}')\n",
    "    plt.legend()\n",
    "\n",
    "    plt.tight_layout()\n",
    "    plt.show()"
   ]
  },
  {
   "cell_type": "code",
   "execution_count": 8,
   "id": "de5ada94",
   "metadata": {},
   "outputs": [
    {
     "data": {
      "image/png": "[encoded data removed]",
      "text/plain": [
       "<Figure size 1000x600 with 3 Axes>"
      ]
     },
     "metadata": {},
     "output_type": "display_data"
    }
   ],
   "source": [
    "# Extracted features for a sample audio file \n",
    "wav_files = get_wav_files(audio_folder)\n",
    "\n",
    "# Select the first .wav file\n",
    "sample_audio = wav_files[0]\n",
    "\n",
    "# Extract MFCC and F0 features\n",
    "mfcc = extract_mfcc_features(sample_audio)\n",
    "f0 = extract_f0(sample_audio)\n",
    "\n",
    "# Plot the features\n",
    "if mfcc is not None and f0 is not None:\n",
    "    plot_features(sample_audio, mfcc, f0)\n",
    "else:\n",
    "    print(\"Failed to extract features for the sample audio.\")"
   ]
  },
  {
   "cell_type": "code",
   "execution_count": 9,
   "id": "638f4920",
   "metadata": {},
   "outputs": [
    {
     "name": "stdout",
     "output_type": "stream",
     "text": [
      "First 10 values of F0 (Fundamental Frequency):\n",
      "[10498.78085815 10484.01248249 10469.24410683 10454.47573116\n",
      " 10439.7073555  10424.93897983 10410.17060417 10395.4022285\n",
      " 10380.63385284 10365.86547717]\n",
      "\n",
      "First 10 values of MFCC:\n",
      "[[  59.56286      26.013386    -43.095695   ...   12.903914\n",
      "   -24.653044     17.92548   ]\n",
      " [-177.9902       49.310745      2.5447297  ...   14.282096\n",
      "    -4.466742     15.379907  ]\n",
      " [-229.91586     109.71345       9.575693   ...    9.911701\n",
      "     2.5147347     4.1880684 ]\n",
      " ...\n",
      " [-246.01071     104.19162       0.35846528 ...   -3.3588262\n",
      "     0.85142076    6.986275  ]\n",
      " [-259.33102     113.40605       8.445125   ...   -0.84327507\n",
      "     4.954671      4.8629265 ]\n",
      " [ -57.11762      48.872932    -21.422384   ...    9.441285\n",
      "    -5.273718      7.005814  ]]\n"
     ]
    }
   ],
   "source": [
    "# Print the first 10 values of MFCC and F0\n",
    "if mfcc is not None and f0 is not None:\n",
    "    print(\"First 10 values of F0 (Fundamental Frequency):\")\n",
    "    print(f0[:10])  # Print the first 10 values of f0\n",
    "    print(\"\\nFirst 10 values of MFCC:\")\n",
    "    print(mfcc[:, :10])  # Print the first 10 MFCC values (across all coefficients)\n",
    "\n",
    "else:\n",
    "    print(\"Failed to extract features for the sample audio.\")"
   ]
  },
  {
   "cell_type": "markdown",
   "id": "ef110751",
   "metadata": {},
   "source": [
    "### 3. Data Preprocessing"
   ]
  },
  {
   "cell_type": "code",
   "execution_count": 10,
   "id": "d55dd28a",
   "metadata": {},
   "outputs": [],
   "source": [
    "# Parse the RTTM file and extract speaker segments.\n",
    "def parse_rttm(rttm_file):\n",
    "    segments = []\n",
    "    with open(rttm_file, 'r') as f:\n",
    "        for line in f:\n",
    "            parts = line.strip().split()\n",
    "            start_time = float(parts[3])\n",
    "            duration = float(parts[4])\n",
    "            speaker_id = parts[7]\n",
    "            end_time = start_time + duration\n",
    "            segments.append((start_time, end_time, speaker_id))\n",
    "    return segments"
   ]
  },
  {
   "cell_type": "code",
   "execution_count": 11,
   "id": "09d5158f",
   "metadata": {},
   "outputs": [],
   "source": [
    "# Detect speaker changes within a given timeframe\n",
    "def detect_speaker_changes_in_timeframe(segments, timeframe_duration):\n",
    "    labels = []\n",
    "    if not segments:\n",
    "        return labels\n",
    "\n",
    "    segments.sort(key=lambda x: x[0])\n",
    "    current_time = 0.0\n",
    "    max_time = segments[-1][1]\n",
    "    speaker_change_times = []\n",
    "    prev_speaker = None\n",
    "\n",
    "    for segment in segments:\n",
    "        start_time, _, speaker_id = segment\n",
    "        if prev_speaker is not None and speaker_id != prev_speaker:\n",
    "            speaker_change_times.append(start_time)\n",
    "        prev_speaker = speaker_id\n",
    "\n",
    "    while current_time < max_time:\n",
    "        timeframe_end = current_time + timeframe_duration\n",
    "        timeframe_label = 0\n",
    "        for change_time in speaker_change_times:\n",
    "            if current_time <= change_time < timeframe_end:\n",
    "                timeframe_label = 1\n",
    "                break\n",
    "        labels.append(timeframe_label)\n",
    "        current_time = timeframe_end\n",
    "\n",
    "    return labels"
   ]
  },
  {
   "cell_type": "code",
   "execution_count": 12,
   "id": "a10c214b",
   "metadata": {},
   "outputs": [],
   "source": [
    "# Process the RTTM file to detect speaker changes within timeframes.\n",
    "def process_audio_file(rttm_file, timeframe_duration):\n",
    "    segments = parse_rttm(rttm_file)\n",
    "    labels = detect_speaker_changes_in_timeframe(segments, timeframe_duration)\n",
    "    return labels"
   ]
  },
  {
   "cell_type": "code",
   "execution_count": 13,
   "id": "55c39098",
   "metadata": {},
   "outputs": [],
   "source": [
    "#  Extract features and labels, then save them to a CSV file\n",
    "def save_features_and_labels_to_csv(wav_files, rttm_folder, output_csv, timeframe_duration):\n",
    "    data = []\n",
    "\n",
    "    # Process RTTM files to get labels\n",
    "    results = {}\n",
    "    for rttm_filename in tqdm(os.listdir(rttm_folder), desc=\"Processing RTTM files\"):\n",
    "        if rttm_filename.endswith(\".rttm\"):\n",
    "            rttm_file = os.path.join(rttm_folder, rttm_filename)\n",
    "            file_id = os.path.splitext(rttm_filename)[0]\n",
    "            binary_labels = process_audio_file(rttm_file, timeframe_duration)\n",
    "            results[file_id] = binary_labels\n",
    "\n",
    "    # Process WAV files to extract MFCC and F0 features\n",
    "    for wav_path in tqdm(wav_files, desc=\"Processing WAV files\"):\n",
    "        file_id = os.path.splitext(os.path.basename(wav_path))[0]\n",
    "        mfcc = extract_mfcc_features(wav_path)\n",
    "        f0 = extract_f0(wav_path)\n",
    "        labels = results.get(file_id, [])\n",
    "\n",
    "        if mfcc is not None and f0 is not None and labels:\n",
    "            # Ensure all arrays have the same length\n",
    "            min_length = min(len(mfcc), len(f0), len(labels))\n",
    "            for i in range(min_length):\n",
    "                row = {\n",
    "                    'file_id': file_id,\n",
    "                    'timeframe': i * timeframe_duration,\n",
    "                    **{f'mfcc_{j}': mfcc[i][j] for j in range(mfcc.shape[1])},\n",
    "                    'f0': f0[i],\n",
    "                    'label': labels[i]\n",
    "                }\n",
    "                data.append(row)\n",
    "\n",
    "    # Convert to DataFrame and save to CSV\n",
    "    df = pd.DataFrame(data)\n",
    "    df.to_csv(output_csv, index=False)\n",
    "    print(f\"Features and labels saved to {output_csv}\")"
   ]
  },
  {
   "cell_type": "code",
   "execution_count": 14,
   "id": "b8a74a7a",
   "metadata": {},
   "outputs": [],
   "source": [
    " # Initialize empty lists to hold file paths for training, validation, and test sets\n",
    "def split_wav_files(audio_folder):\n",
    "    train_files = []\n",
    "    validation_files = []\n",
    "    test_files = []\n",
    "\n",
    "    for session in range(1, 7):  # Assuming 6 sessions\n",
    "        session_folder = os.path.join(audio_folder, f'Session{session}')\n",
    "        wav_folder = os.path.join(session_folder, 'dialog', 'wav')\n",
    "\n",
    "        if os.path.isdir(wav_folder):\n",
    "            wav_files = [\n",
    "                os.path.join(wav_folder, file)\n",
    "                for file in os.listdir(wav_folder)\n",
    "                if file.endswith('.wav')\n",
    "            ]\n",
    "\n",
    "            if session <= 3:  # Training set: Session 1-3\n",
    "                train_files.extend(wav_files)\n",
    "            elif session == 4:  # Validation set: Session 4\n",
    "                validation_files.extend(wav_files)\n",
    "            elif session == 5:  # Test set: Session 5\n",
    "                test_files.extend(wav_files)\n",
    "\n",
    "    print(f\"Number of training files: {len(train_files)}\")\n",
    "    print(f\"Number of validation files: {len(validation_files)}\")\n",
    "    print(f\"Number of test files: {len(test_files)}\")\n",
    "\n",
    "    return train_files, validation_files, test_files"
   ]
  },
  {
   "cell_type": "code",
   "execution_count": 15,
   "id": "50563a84",
   "metadata": {},
   "outputs": [
    {
     "name": "stdout",
     "output_type": "stream",
     "text": [
      "Number of training files: 90\n",
      "Number of validation files: 30\n",
      "Number of test files: 31\n"
     ]
    },
    {
     "name": "stderr",
     "output_type": "stream",
     "text": [
      "Processing RTTM files: 100%|██████████| 152/152 [00:00<00:00, 1481.48it/s]\n",
      "Processing WAV files: 100%|██████████| 90/90 [01:27<00:00,  1.03it/s]\n"
     ]
    },
    {
     "name": "stdout",
     "output_type": "stream",
     "text": [
      "Features and labels saved to train.csv\n"
     ]
    },
    {
     "name": "stderr",
     "output_type": "stream",
     "text": [
      "Processing RTTM files: 100%|██████████| 152/152 [00:00<00:00, 973.58it/s]\n",
      "Processing WAV files: 100%|██████████| 30/30 [00:29<00:00,  1.02it/s]\n"
     ]
    },
    {
     "name": "stdout",
     "output_type": "stream",
     "text": [
      "Features and labels saved to validation.csv\n"
     ]
    },
    {
     "name": "stderr",
     "output_type": "stream",
     "text": [
      "Processing RTTM files: 100%|██████████| 152/152 [00:00<00:00, 1014.40it/s]\n",
      "Processing WAV files: 100%|██████████| 31/31 [00:30<00:00,  1.02it/s]\n"
     ]
    },
    {
     "name": "stdout",
     "output_type": "stream",
     "text": [
      "Features and labels saved to test.csv\n"
     ]
    }
   ],
   "source": [
    "# Split .wav files into train, validation, and test sets\n",
    "train_files, validation_files, test_files = split_wav_files(audio_folder)\n",
    "\n",
    "# Save features and labels for train, validation, and test sets\n",
    "save_features_and_labels_to_csv(train_files, rttm_folder, 'train.csv', FRAME_LENGTH)\n",
    "save_features_and_labels_to_csv(validation_files, rttm_folder, 'validation.csv', FRAME_LENGTH)\n",
    "save_features_and_labels_to_csv(test_files, rttm_folder, 'test.csv', FRAME_LENGTH)"
   ]
  },
  {
   "cell_type": "code",
   "execution_count": 16,
   "id": "7405458a",
   "metadata": {},
   "outputs": [],
   "source": [
    "# Load datasets\n",
    "train_df = pd.read_csv('train.csv')\n",
    "val_df = pd.read_csv('validation.csv')\n",
    "test_df = pd.read_csv('test.csv')"
   ]
  },
  {
   "cell_type": "code",
   "execution_count": 17,
   "id": "6b2c1ece",
   "metadata": {},
   "outputs": [
    {
     "name": "stdout",
     "output_type": "stream",
     "text": [
      "First 10 rows of the training dataset:\n",
      "          file_id  timeframe     mfcc_0      mfcc_1     mfcc_2     mfcc_3  \\\n",
      "0  Ses01F_impro01        0.0   59.56286   26.013386 -43.095695  21.462040   \n",
      "1  Ses01F_impro01        1.0 -177.99020   49.310745   2.544730  47.077015   \n",
      "2  Ses01F_impro01        2.0 -229.91586  109.713450   9.575693  28.942406   \n",
      "3  Ses01F_impro01        3.0 -257.46188  106.318290  12.691544  23.849974   \n",
      "4  Ses01F_impro01        4.0 -252.81538  106.335754   7.049790  20.541150   \n",
      "5  Ses01F_impro01        5.0 -218.02704   93.083580  -3.597971  24.860030   \n",
      "6  Ses01F_impro01        6.0 -164.47224   85.945220 -22.169674  27.261263   \n",
      "7  Ses01F_impro01        7.0 -191.98384   93.007130  -0.148362  23.276712   \n",
      "8  Ses01F_impro01        8.0 -147.48433   90.926190 -18.363280  13.910666   \n",
      "9  Ses01F_impro01        9.0 -134.44754   95.519150 -34.243557  25.239717   \n",
      "\n",
      "      mfcc_4     mfcc_5     mfcc_6     mfcc_7     mfcc_8     mfcc_9  \\\n",
      "0 -20.277908  29.223480 -32.634865  12.903914 -24.653044  17.925480   \n",
      "1  -5.024269  28.690441 -13.328691  14.282096  -4.466742  15.379907   \n",
      "2  -0.472952   4.736010   0.526645   9.911701   2.514735   4.188068   \n",
      "3   5.886435   9.856051   3.066310   8.612323   7.692910   5.572704   \n",
      "4   2.904912   7.761585   1.872016   5.833452   5.551787   2.713728   \n",
      "5   2.758342  14.019619  -6.028799  12.119774   4.201923   6.572192   \n",
      "6  -4.585057  14.417660  -8.203734  15.620640  -0.189383  13.142445   \n",
      "7  -3.277481  18.377657  -7.359542  12.814451  -4.661446   6.086988   \n",
      "8  -5.415297  27.149082 -13.183946  12.349085  -7.181839   9.534596   \n",
      "9  -4.630878  19.231750  -6.012919   9.810991  -9.488242   6.791883   \n",
      "\n",
      "     mfcc_10   mfcc_11    mfcc_12            f0  label  \n",
      "0 -22.278732 -0.450275 -15.502817  10498.780858      0  \n",
      "1  -2.758998  4.114607  -5.336593  10484.012482      0  \n",
      "2   3.728625  1.672203   0.933713  10469.244107      0  \n",
      "3   6.638103  1.721522   2.962914  10454.475731      0  \n",
      "4   4.424424  3.556028   5.314065  10439.707355      0  \n",
      "5  -0.263090  1.420577   2.403066  10424.938980      0  \n",
      "6   1.942006  3.041097  -2.530813  10410.170604      0  \n",
      "7  -3.421748  5.393669   1.903740  10395.402229      1  \n",
      "8  -9.194548  3.514744   2.675748  10380.633853      0  \n",
      "9  -9.082186 -2.281442   0.829601  10365.865477      0  \n",
      "\n",
      "First 10 rows of the validation dataset:\n",
      "          file_id  timeframe     mfcc_0      mfcc_1     mfcc_2     mfcc_3  \\\n",
      "0  Ses04F_impro01        0.0   46.16332    9.195714 -45.347700   9.914724   \n",
      "1  Ses04F_impro01        1.0 -231.98392   34.363550  -0.384217  41.972008   \n",
      "2  Ses04F_impro01        2.0 -312.40150   95.753510  15.377207  24.571169   \n",
      "3  Ses04F_impro01        3.0 -294.79530   89.720120  15.100421  17.649033   \n",
      "4  Ses04F_impro01        4.0 -296.44836  100.020420  11.380245  22.086142   \n",
      "5  Ses04F_impro01        5.0 -238.95715   75.820010  -2.644189  32.888650   \n",
      "6  Ses04F_impro01        6.0 -230.35596   51.940260   3.272901  35.592537   \n",
      "7  Ses04F_impro01        7.0 -258.27360   73.912810   1.003775  29.116077   \n",
      "8  Ses04F_impro01        8.0 -252.23630   76.673430  -6.195975  27.643050   \n",
      "9  Ses04F_impro01        9.0 -195.67567   49.909710 -15.739994  39.570534   \n",
      "\n",
      "      mfcc_4     mfcc_5     mfcc_6     mfcc_7     mfcc_8     mfcc_9  \\\n",
      "0 -36.816128  26.920040 -22.501083  16.846748  -2.576388   7.093812   \n",
      "1 -16.650486  28.189678 -14.406691  16.324036  -3.666139  13.462196   \n",
      "2   5.068683   8.210217  -1.362880   6.673648  -1.796822   5.060383   \n",
      "3  -5.314876  10.752842  -2.790104  10.587015  -2.109465   8.011373   \n",
      "4   0.149027   7.521409  -4.148263   5.166219  -2.525225   6.845525   \n",
      "5  -4.939481  16.237648  -9.033645  11.436701  -7.497651   9.505413   \n",
      "6 -11.180271  21.861938 -18.607193  16.695282  -9.653192  12.607307   \n",
      "7  -5.261319  13.506969  -6.515363  13.420961  -8.086590   9.558430   \n",
      "8  -0.977479  20.292580  -7.320150   7.994256  -4.387289  10.692710   \n",
      "9 -22.032671  22.173270  -5.452767   6.922975 -13.149866  12.252169   \n",
      "\n",
      "     mfcc_10    mfcc_11    mfcc_12           f0  label  \n",
      "0 -25.475067   3.416419 -12.510124 -4342.126096      0  \n",
      "1  -4.607957   8.783829  -2.632650 -4332.906371      0  \n",
      "2   6.399834   8.305755   5.367752 -4323.686646      0  \n",
      "3   0.112305   7.929470   2.709290 -4314.466921      0  \n",
      "4   4.699204   4.037480   5.222857 -4305.247196      0  \n",
      "5  -4.046362   5.556039  -0.617199 -4296.027471      0  \n",
      "6  -2.311574   8.654351  -0.475265 -4286.807746      0  \n",
      "7   2.313212  10.436864  -1.204428 -4277.588021      0  \n",
      "8  -1.623668   5.923640  -1.933299 -4268.368296      0  \n",
      "9   0.223318   6.962795  -2.944424 -4259.148571      0  \n",
      "\n",
      "First 10 rows of the test dataset:\n",
      "          file_id  timeframe      mfcc_0      mfcc_1     mfcc_2     mfcc_3  \\\n",
      "0  Ses05F_impro01        0.0   49.286625  -18.185460 -54.928474  16.145164   \n",
      "1  Ses05F_impro01        1.0 -225.233230   32.927140  -7.081529  44.915220   \n",
      "2  Ses05F_impro01        2.0 -296.178100  110.246170  -0.430068  31.858326   \n",
      "3  Ses05F_impro01        3.0 -279.408900  119.404205  -5.211851  23.686280   \n",
      "4  Ses05F_impro01        4.0 -283.620100  120.416550  -3.105977  33.126774   \n",
      "5  Ses05F_impro01        5.0 -288.188840  123.547250   0.766227  28.369743   \n",
      "6  Ses05F_impro01        6.0 -272.689670  100.179220  -1.364577  31.376596   \n",
      "7  Ses05F_impro01        7.0 -297.438400  106.095720   2.795319  23.063725   \n",
      "8  Ses05F_impro01        8.0 -275.194240   98.307250   1.758144  28.373180   \n",
      "9  Ses05F_impro01        9.0 -162.899870  118.176480 -59.382698  36.054855   \n",
      "\n",
      "      mfcc_4     mfcc_5     mfcc_6     mfcc_7     mfcc_8     mfcc_9  \\\n",
      "0 -15.945740  39.617700 -10.851255  16.521204 -10.224102  16.744080   \n",
      "1 -15.593817  40.354850 -22.017403  20.041307  -6.857765  18.292890   \n",
      "2  -8.424536  17.108553  -9.898386  10.953055   1.506255   8.534718   \n",
      "3 -10.168150  15.081219  -7.264399  14.541663  -1.277290  11.280952   \n",
      "4  -5.770891  13.674327  -3.626578  10.888600  -5.123749   8.682173   \n",
      "5  -8.180450  14.726286  -6.596074  10.361521  -5.579417   6.480730   \n",
      "6 -11.738583  19.610836  -9.974224  17.591000  -6.945518  10.904364   \n",
      "7  -6.579256  20.435911  -7.911873  17.050129  -6.028280  11.335045   \n",
      "8  -7.392874   8.216557  -6.506982  17.779882  -3.836408  12.174412   \n",
      "9 -37.633247  10.961056  -2.671250  26.621265   4.368527  -2.850151   \n",
      "\n",
      "     mfcc_10    mfcc_11    mfcc_12           f0  label  \n",
      "0  -5.913460   5.771991 -17.083980  1045.215484      0  \n",
      "1  -0.194167  15.567842  -5.920234  1043.302719      0  \n",
      "2   2.010771   4.991209   0.938416  1041.389953      0  \n",
      "3   3.412047   6.389989   1.940178  1039.477188      0  \n",
      "4  -0.520499   5.144909   3.945662  1037.564423      0  \n",
      "5  -0.189249   4.353489   4.602777  1035.651658      1  \n",
      "6   1.054874   7.513644   0.155391  1033.738892      0  \n",
      "7   1.530107   9.080982   2.183737  1031.826127      0  \n",
      "8  -4.615462  15.807897  -2.075222  1029.913362      0  \n",
      "9 -12.570552   2.974523   2.392663  1028.000597      0  \n"
     ]
    }
   ],
   "source": [
    "# Print the first 10 rows of each dataset\n",
    "print(\"First 10 rows of the training dataset:\")\n",
    "print(train_df.head(10))  # First 10 rows of the training dataset\n",
    "\n",
    "print(\"\\nFirst 10 rows of the validation dataset:\")\n",
    "print(val_df.head(10))  # First 10 rows of the validation dataset\n",
    "\n",
    "print(\"\\nFirst 10 rows of the test dataset:\")\n",
    "print(test_df.head(10))  # First 10 rows of the test dataset"
   ]
  },
  {
   "cell_type": "code",
   "execution_count": 18,
   "id": "c9f60981",
   "metadata": {},
   "outputs": [],
   "source": [
    "# Combine training and validation datasets for experimentation\n",
    "train_val_df = pd.concat([train_df, val_df])"
   ]
  },
  {
   "cell_type": "code",
   "execution_count": 19,
   "id": "f1c61216",
   "metadata": {},
   "outputs": [],
   "source": [
    "# Feature columns (exclude file_id, timeframe, and label)\n",
    "feature_columns = [col for col in train_df.columns if col not in ['file_id', 'timeframe', 'label']]"
   ]
  },
  {
   "cell_type": "code",
   "execution_count": 20,
   "id": "1b680468",
   "metadata": {},
   "outputs": [],
   "source": [
    "# Prepare data\n",
    "X_train = train_val_df[feature_columns]\n",
    "y_train = train_val_df['label']\n",
    "X_test = test_df[feature_columns]\n",
    "y_test = test_df['label']"
   ]
  },
  {
   "cell_type": "code",
   "execution_count": 21,
   "id": "030669eb",
   "metadata": {},
   "outputs": [],
   "source": [
    "# Normalize features\n",
    "scaler = StandardScaler()\n",
    "X_train_scaled = scaler.fit_transform(X_train)\n",
    "X_test_scaled = scaler.transform(X_test)"
   ]
  },
  {
   "cell_type": "markdown",
   "id": "f9107386",
   "metadata": {},
   "source": [
    "### 4. Model Development"
   ]
  },
  {
   "cell_type": "code",
   "execution_count": 22,
   "id": "8af032fb",
   "metadata": {},
   "outputs": [],
   "source": [
    "# Define the neural network model\n",
    "def build_model(input_shape):\n",
    "    model = Sequential([\n",
    "        Dense(128, activation='relu', input_shape=(input_shape,)),\n",
    "        BatchNormalization(),\n",
    "        Dropout(0.3),\n",
    "        Dense(64, activation='relu'),\n",
    "        BatchNormalization(),\n",
    "        Dropout(0.3),\n",
    "        Dense(32, activation='relu'),\n",
    "        BatchNormalization(),\n",
    "        Dropout(0.3),\n",
    "        Dense(1, activation='sigmoid')  \n",
    "    ])\n",
    "    return model"
   ]
  },
  {
   "cell_type": "code",
   "execution_count": 23,
   "id": "ad8ddecc",
   "metadata": {},
   "outputs": [
    {
     "name": "stderr",
     "output_type": "stream",
     "text": [
      "C:\\Users\\waipe\\anaconda3\\Lib\\site-packages\\keras\\src\\layers\\core\\dense.py:87: UserWarning: Do not pass an `input_shape`/`input_dim` argument to a layer. When using Sequential models, prefer using an `Input(shape)` object as the first layer in the model instead.\n",
      "  super().__init__(activity_regularizer=activity_regularizer, **kwargs)\n"
     ]
    },
    {
     "name": "stdout",
     "output_type": "stream",
     "text": [
      "Epoch 1/30\n",
      "\u001b[1m405/405\u001b[0m \u001b[32m━━━━━━━━━━━━━━━━━━━━\u001b[0m\u001b[37m\u001b[0m \u001b[1m6s\u001b[0m 3ms/step - accuracy: 0.6257 - loss: 0.7165 - val_accuracy: 0.8023 - val_loss: 0.4976\n",
      "Epoch 2/30\n",
      "\u001b[1m405/405\u001b[0m \u001b[32m━━━━━━━━━━━━━━━━━━━━\u001b[0m\u001b[37m\u001b[0m \u001b[1m1s\u001b[0m 3ms/step - accuracy: 0.8052 - loss: 0.5124 - val_accuracy: 0.8023 - val_loss: 0.4983\n",
      "Epoch 3/30\n",
      "\u001b[1m405/405\u001b[0m \u001b[32m━━━━━━━━━━━━━━━━━━━━\u001b[0m\u001b[37m\u001b[0m \u001b[1m1s\u001b[0m 3ms/step - accuracy: 0.8124 - loss: 0.4944 - val_accuracy: 0.8023 - val_loss: 0.4956\n",
      "Epoch 4/30\n",
      "\u001b[1m405/405\u001b[0m \u001b[32m━━━━━━━━━━━━━━━━━━━━\u001b[0m\u001b[37m\u001b[0m \u001b[1m1s\u001b[0m 3ms/step - accuracy: 0.8134 - loss: 0.4891 - val_accuracy: 0.8023 - val_loss: 0.4952\n",
      "Epoch 5/30\n",
      "\u001b[1m405/405\u001b[0m \u001b[32m━━━━━━━━━━━━━━━━━━━━\u001b[0m\u001b[37m\u001b[0m \u001b[1m1s\u001b[0m 3ms/step - accuracy: 0.8134 - loss: 0.4861 - val_accuracy: 0.8023 - val_loss: 0.4951\n",
      "Epoch 6/30\n",
      "\u001b[1m405/405\u001b[0m \u001b[32m━━━━━━━━━━━━━━━━━━━━\u001b[0m\u001b[37m\u001b[0m \u001b[1m1s\u001b[0m 3ms/step - accuracy: 0.8189 - loss: 0.4765 - val_accuracy: 0.8023 - val_loss: 0.4946\n",
      "Epoch 7/30\n",
      "\u001b[1m405/405\u001b[0m \u001b[32m━━━━━━━━━━━━━━━━━━━━\u001b[0m\u001b[37m\u001b[0m \u001b[1m1s\u001b[0m 3ms/step - accuracy: 0.8150 - loss: 0.4814 - val_accuracy: 0.8023 - val_loss: 0.4945\n",
      "Epoch 8/30\n",
      "\u001b[1m405/405\u001b[0m \u001b[32m━━━━━━━━━━━━━━━━━━━━\u001b[0m\u001b[37m\u001b[0m \u001b[1m1s\u001b[0m 4ms/step - accuracy: 0.8117 - loss: 0.4850 - val_accuracy: 0.8023 - val_loss: 0.4944\n",
      "Epoch 9/30\n",
      "\u001b[1m405/405\u001b[0m \u001b[32m━━━━━━━━━━━━━━━━━━━━\u001b[0m\u001b[37m\u001b[0m \u001b[1m1s\u001b[0m 3ms/step - accuracy: 0.8127 - loss: 0.4827 - val_accuracy: 0.8023 - val_loss: 0.4949\n",
      "Epoch 10/30\n",
      "\u001b[1m405/405\u001b[0m \u001b[32m━━━━━━━━━━━━━━━━━━━━\u001b[0m\u001b[37m\u001b[0m \u001b[1m1s\u001b[0m 3ms/step - accuracy: 0.8107 - loss: 0.4847 - val_accuracy: 0.8023 - val_loss: 0.4949\n",
      "Epoch 11/30\n",
      "\u001b[1m405/405\u001b[0m \u001b[32m━━━━━━━━━━━━━━━━━━━━\u001b[0m\u001b[37m\u001b[0m \u001b[1m1s\u001b[0m 3ms/step - accuracy: 0.8177 - loss: 0.4744 - val_accuracy: 0.8023 - val_loss: 0.4946\n",
      "Epoch 12/30\n",
      "\u001b[1m405/405\u001b[0m \u001b[32m━━━━━━━━━━━━━━━━━━━━\u001b[0m\u001b[37m\u001b[0m \u001b[1m2s\u001b[0m 4ms/step - accuracy: 0.8141 - loss: 0.4790 - val_accuracy: 0.8023 - val_loss: 0.4948\n",
      "Epoch 13/30\n",
      "\u001b[1m405/405\u001b[0m \u001b[32m━━━━━━━━━━━━━━━━━━━━\u001b[0m\u001b[37m\u001b[0m \u001b[1m2s\u001b[0m 4ms/step - accuracy: 0.8111 - loss: 0.4829 - val_accuracy: 0.8023 - val_loss: 0.4948\n",
      "Epoch 14/30\n",
      "\u001b[1m405/405\u001b[0m \u001b[32m━━━━━━━━━━━━━━━━━━━━\u001b[0m\u001b[37m\u001b[0m \u001b[1m1s\u001b[0m 3ms/step - accuracy: 0.8106 - loss: 0.4823 - val_accuracy: 0.8023 - val_loss: 0.4958\n",
      "Epoch 15/30\n",
      "\u001b[1m405/405\u001b[0m \u001b[32m━━━━━━━━━━━━━━━━━━━━\u001b[0m\u001b[37m\u001b[0m \u001b[1m1s\u001b[0m 3ms/step - accuracy: 0.8106 - loss: 0.4815 - val_accuracy: 0.8023 - val_loss: 0.4957\n",
      "Epoch 16/30\n",
      "\u001b[1m405/405\u001b[0m \u001b[32m━━━━━━━━━━━━━━━━━━━━\u001b[0m\u001b[37m\u001b[0m \u001b[1m2s\u001b[0m 4ms/step - accuracy: 0.8134 - loss: 0.4783 - val_accuracy: 0.8023 - val_loss: 0.4953\n",
      "Epoch 17/30\n",
      "\u001b[1m405/405\u001b[0m \u001b[32m━━━━━━━━━━━━━━━━━━━━\u001b[0m\u001b[37m\u001b[0m \u001b[1m2s\u001b[0m 4ms/step - accuracy: 0.8136 - loss: 0.4777 - val_accuracy: 0.8023 - val_loss: 0.4944\n",
      "Epoch 18/30\n",
      "\u001b[1m405/405\u001b[0m \u001b[32m━━━━━━━━━━━━━━━━━━━━\u001b[0m\u001b[37m\u001b[0m \u001b[1m2s\u001b[0m 4ms/step - accuracy: 0.8134 - loss: 0.4770 - val_accuracy: 0.8023 - val_loss: 0.4952\n",
      "Epoch 19/30\n",
      "\u001b[1m405/405\u001b[0m \u001b[32m━━━━━━━━━━━━━━━━━━━━\u001b[0m\u001b[37m\u001b[0m \u001b[1m1s\u001b[0m 3ms/step - accuracy: 0.8125 - loss: 0.4788 - val_accuracy: 0.8023 - val_loss: 0.4967\n",
      "Epoch 20/30\n",
      "\u001b[1m405/405\u001b[0m \u001b[32m━━━━━━━━━━━━━━━━━━━━\u001b[0m\u001b[37m\u001b[0m \u001b[1m1s\u001b[0m 3ms/step - accuracy: 0.8135 - loss: 0.4781 - val_accuracy: 0.8023 - val_loss: 0.4959\n",
      "Epoch 21/30\n",
      "\u001b[1m405/405\u001b[0m \u001b[32m━━━━━━━━━━━━━━━━━━━━\u001b[0m\u001b[37m\u001b[0m \u001b[1m1s\u001b[0m 3ms/step - accuracy: 0.8152 - loss: 0.4743 - val_accuracy: 0.8023 - val_loss: 0.4949\n",
      "Epoch 22/30\n",
      "\u001b[1m405/405\u001b[0m \u001b[32m━━━━━━━━━━━━━━━━━━━━\u001b[0m\u001b[37m\u001b[0m \u001b[1m1s\u001b[0m 3ms/step - accuracy: 0.8110 - loss: 0.4808 - val_accuracy: 0.8023 - val_loss: 0.4952\n",
      "Epoch 23/30\n",
      "\u001b[1m405/405\u001b[0m \u001b[32m━━━━━━━━━━━━━━━━━━━━\u001b[0m\u001b[37m\u001b[0m \u001b[1m2s\u001b[0m 4ms/step - accuracy: 0.8186 - loss: 0.4691 - val_accuracy: 0.8023 - val_loss: 0.4953\n",
      "Epoch 24/30\n",
      "\u001b[1m405/405\u001b[0m \u001b[32m━━━━━━━━━━━━━━━━━━━━\u001b[0m\u001b[37m\u001b[0m \u001b[1m2s\u001b[0m 4ms/step - accuracy: 0.8129 - loss: 0.4783 - val_accuracy: 0.8023 - val_loss: 0.4960\n",
      "Epoch 25/30\n",
      "\u001b[1m405/405\u001b[0m \u001b[32m━━━━━━━━━━━━━━━━━━━━\u001b[0m\u001b[37m\u001b[0m \u001b[1m2s\u001b[0m 4ms/step - accuracy: 0.8147 - loss: 0.4737 - val_accuracy: 0.8023 - val_loss: 0.4965\n",
      "Epoch 26/30\n",
      "\u001b[1m405/405\u001b[0m \u001b[32m━━━━━━━━━━━━━━━━━━━━\u001b[0m\u001b[37m\u001b[0m \u001b[1m1s\u001b[0m 3ms/step - accuracy: 0.8133 - loss: 0.4766 - val_accuracy: 0.8023 - val_loss: 0.4953\n",
      "Epoch 27/30\n",
      "\u001b[1m405/405\u001b[0m \u001b[32m━━━━━━━━━━━━━━━━━━━━\u001b[0m\u001b[37m\u001b[0m \u001b[1m1s\u001b[0m 3ms/step - accuracy: 0.8163 - loss: 0.4708 - val_accuracy: 0.8023 - val_loss: 0.4959\n",
      "Epoch 28/30\n",
      "\u001b[1m405/405\u001b[0m \u001b[32m━━━━━━━━━━━━━━━━━━━━\u001b[0m\u001b[37m\u001b[0m \u001b[1m1s\u001b[0m 3ms/step - accuracy: 0.8119 - loss: 0.4777 - val_accuracy: 0.8023 - val_loss: 0.4969\n",
      "Epoch 29/30\n",
      "\u001b[1m405/405\u001b[0m \u001b[32m━━━━━━━━━━━━━━━━━━━━\u001b[0m\u001b[37m\u001b[0m \u001b[1m1s\u001b[0m 3ms/step - accuracy: 0.8097 - loss: 0.4813 - val_accuracy: 0.8023 - val_loss: 0.4951\n",
      "Epoch 30/30\n",
      "\u001b[1m405/405\u001b[0m \u001b[32m━━━━━━━━━━━━━━━━━━━━\u001b[0m\u001b[37m\u001b[0m \u001b[1m1s\u001b[0m 3ms/step - accuracy: 0.8159 - loss: 0.4717 - val_accuracy: 0.8023 - val_loss: 0.4963\n",
      "\u001b[1m274/274\u001b[0m \u001b[32m━━━━━━━━━━━━━━━━━━━━\u001b[0m\u001b[37m\u001b[0m \u001b[1m1s\u001b[0m 2ms/step\n"
     ]
    }
   ],
   "source": [
    "# Build the model\n",
    "model = build_model(X_train_scaled.shape[1])\n",
    "\n",
    "# Compile the model\n",
    "model.compile(optimizer=Adam(learning_rate=0.001),\n",
    "              loss='binary_crossentropy',\n",
    "              metrics=['accuracy'])\n",
    "\n",
    "# Train the model\n",
    "history = model.fit(\n",
    "    X_train_scaled, y_train,\n",
    "    validation_split=0.2,\n",
    "    epochs=30,\n",
    "    batch_size=64,\n",
    "    verbose=1\n",
    ")\n",
    "\n",
    "# Evaluate the model on the test set\n",
    "y_pred = model.predict(X_test_scaled)\n",
    "\n",
    "# Set a custom threshold \n",
    "threshold = 0.15\n",
    "y_pred_binary = (y_pred > threshold).astype(int)"
   ]
  },
  {
   "cell_type": "code",
   "execution_count": 24,
   "id": "52820f86",
   "metadata": {},
   "outputs": [
    {
     "name": "stdout",
     "output_type": "stream",
     "text": [
      "Classification Report:\n",
      "              precision    recall  f1-score   support\n",
      "\n",
      "           0       0.82      0.19      0.30      6905\n",
      "           1       0.22      0.85      0.35      1838\n",
      "\n",
      "    accuracy                           0.33      8743\n",
      "   macro avg       0.52      0.52      0.33      8743\n",
      "weighted avg       0.70      0.33      0.31      8743\n",
      "\n",
      "F1-Score: 0.3462\n",
      "Precision: 0.2174\n",
      "Recall: 0.8493\n"
     ]
    }
   ],
   "source": [
    "# Performance metrics\n",
    "print(\"Classification Report:\")\n",
    "print(classification_report(y_test, y_pred_binary))\n",
    "\n",
    "f1 = f1_score(y_test, y_pred_binary)\n",
    "precision = precision_score(y_test, y_pred_binary)\n",
    "recall = recall_score(y_test, y_pred_binary)\n",
    "\n",
    "print(f\"F1-Score: {f1:.4f}\")\n",
    "print(f\"Precision: {precision:.4f}\")\n",
    "print(f\"Recall: {recall:.4f}\")"
   ]
  },
  {
   "cell_type": "code",
   "execution_count": 25,
   "id": "2c725f5b",
   "metadata": {},
   "outputs": [
    {
     "data": {
      "image/png": "[encoded data removed]",
      "text/plain": [
       "<Figure size 1200x400 with 2 Axes>"
      ]
     },
     "metadata": {},
     "output_type": "display_data"
    }
   ],
   "source": [
    "# Plotting the metrics for visualization\n",
    "plt.figure(figsize=(12, 4))\n",
    "\n",
    "# Accuracy\n",
    "plt.subplot(1, 2, 1)\n",
    "plt.plot(history.history['accuracy'], label='Train Accuracy')\n",
    "plt.plot(history.history['val_accuracy'], label='Validation Accuracy')\n",
    "plt.title('Model Accuracy')\n",
    "plt.xlabel('Epoch')\n",
    "plt.ylabel('Accuracy')\n",
    "plt.legend()\n",
    "\n",
    "# Loss\n",
    "plt.subplot(1, 2, 2)\n",
    "plt.plot(history.history['loss'], label='Train Loss')\n",
    "plt.plot(history.history['val_loss'], label='Validation Loss')\n",
    "plt.title('Model Loss')\n",
    "plt.xlabel('Epoch')\n",
    "plt.ylabel('Loss')\n",
    "plt.legend()\n",
    "\n",
    "plt.tight_layout()\n",
    "plt.show()"
   ]
  },
  {
   "cell_type": "markdown",
   "id": "485061c4",
   "metadata": {},
   "source": [
    "### 5. Results and Discussion"
   ]
  },
  {
   "cell_type": "code",
   "execution_count": 45,
   "id": "246f6ff5",
   "metadata": {},
   "outputs": [
    {
     "name": "stderr",
     "output_type": "stream",
     "text": [
      "C:\\Users\\waipe\\anaconda3\\Lib\\site-packages\\keras\\src\\layers\\core\\dense.py:87: UserWarning: Do not pass an `input_shape`/`input_dim` argument to a layer. When using Sequential models, prefer using an `Input(shape)` object as the first layer in the model instead.\n",
      "  super().__init__(activity_regularizer=activity_regularizer, **kwargs)\n"
     ]
    },
    {
     "name": "stdout",
     "output_type": "stream",
     "text": [
      "\u001b[1m551/551\u001b[0m \u001b[32m━━━━━━━━━━━━━━━━━━━━\u001b[0m\u001b[37m\u001b[0m \u001b[1m1s\u001b[0m 1ms/step\n",
      "\u001b[1m551/551\u001b[0m \u001b[32m━━━━━━━━━━━━━━━━━━━━\u001b[0m\u001b[37m\u001b[0m \u001b[1m1s\u001b[0m 2ms/step\n",
      "\u001b[1m551/551\u001b[0m \u001b[32m━━━━━━━━━━━━━━━━━━━━\u001b[0m\u001b[37m\u001b[0m \u001b[1m1s\u001b[0m 1ms/step\n"
     ]
    },
    {
     "name": "stderr",
     "output_type": "stream",
     "text": [
      "C:\\Users\\waipe\\anaconda3\\Lib\\site-packages\\keras\\src\\layers\\core\\dense.py:87: UserWarning: Do not pass an `input_shape`/`input_dim` argument to a layer. When using Sequential models, prefer using an `Input(shape)` object as the first layer in the model instead.\n",
      "  super().__init__(activity_regularizer=activity_regularizer, **kwargs)\n"
     ]
    },
    {
     "name": "stdout",
     "output_type": "stream",
     "text": [
      "\u001b[1m551/551\u001b[0m \u001b[32m━━━━━━━━━━━━━━━━━━━━\u001b[0m\u001b[37m\u001b[0m \u001b[1m1s\u001b[0m 1ms/step\n",
      "\u001b[1m551/551\u001b[0m \u001b[32m━━━━━━━━━━━━━━━━━━━━\u001b[0m\u001b[37m\u001b[0m \u001b[1m0s\u001b[0m 851us/step\n",
      "\u001b[1m551/551\u001b[0m \u001b[32m━━━━━━━━━━━━━━━━━━━━\u001b[0m\u001b[37m\u001b[0m \u001b[1m1s\u001b[0m 888us/step\n"
     ]
    },
    {
     "name": "stderr",
     "output_type": "stream",
     "text": [
      "C:\\Users\\waipe\\anaconda3\\Lib\\site-packages\\keras\\src\\layers\\core\\dense.py:87: UserWarning: Do not pass an `input_shape`/`input_dim` argument to a layer. When using Sequential models, prefer using an `Input(shape)` object as the first layer in the model instead.\n",
      "  super().__init__(activity_regularizer=activity_regularizer, **kwargs)\n"
     ]
    },
    {
     "name": "stdout",
     "output_type": "stream",
     "text": [
      "\u001b[1m551/551\u001b[0m \u001b[32m━━━━━━━━━━━━━━━━━━━━\u001b[0m\u001b[37m\u001b[0m \u001b[1m1s\u001b[0m 1ms/step\n",
      "\u001b[1m551/551\u001b[0m \u001b[32m━━━━━━━━━━━━━━━━━━━━\u001b[0m\u001b[37m\u001b[0m \u001b[1m1s\u001b[0m 1ms/step\n",
      "\u001b[1m551/551\u001b[0m \u001b[32m━━━━━━━━━━━━━━━━━━━━\u001b[0m\u001b[37m\u001b[0m \u001b[1m1s\u001b[0m 1ms/step\n"
     ]
    },
    {
     "name": "stderr",
     "output_type": "stream",
     "text": [
      "C:\\Users\\waipe\\anaconda3\\Lib\\site-packages\\keras\\src\\layers\\core\\dense.py:87: UserWarning: Do not pass an `input_shape`/`input_dim` argument to a layer. When using Sequential models, prefer using an `Input(shape)` object as the first layer in the model instead.\n",
      "  super().__init__(activity_regularizer=activity_regularizer, **kwargs)\n"
     ]
    },
    {
     "name": "stdout",
     "output_type": "stream",
     "text": [
      "\u001b[1m551/551\u001b[0m \u001b[32m━━━━━━━━━━━━━━━━━━━━\u001b[0m\u001b[37m\u001b[0m \u001b[1m1s\u001b[0m 1ms/step\n",
      "\u001b[1m551/551\u001b[0m \u001b[32m━━━━━━━━━━━━━━━━━━━━\u001b[0m\u001b[37m\u001b[0m \u001b[1m0s\u001b[0m 848us/step\n",
      "\u001b[1m551/551\u001b[0m \u001b[32m━━━━━━━━━━━━━━━━━━━━\u001b[0m\u001b[37m\u001b[0m \u001b[1m0s\u001b[0m 855us/step\n"
     ]
    },
    {
     "name": "stderr",
     "output_type": "stream",
     "text": [
      "C:\\Users\\waipe\\anaconda3\\Lib\\site-packages\\keras\\src\\layers\\core\\dense.py:87: UserWarning: Do not pass an `input_shape`/`input_dim` argument to a layer. When using Sequential models, prefer using an `Input(shape)` object as the first layer in the model instead.\n",
      "  super().__init__(activity_regularizer=activity_regularizer, **kwargs)\n"
     ]
    },
    {
     "name": "stdout",
     "output_type": "stream",
     "text": [
      "\u001b[1m551/551\u001b[0m \u001b[32m━━━━━━━━━━━━━━━━━━━━\u001b[0m\u001b[37m\u001b[0m \u001b[1m1s\u001b[0m 2ms/step\n",
      "\u001b[1m551/551\u001b[0m \u001b[32m━━━━━━━━━━━━━━━━━━━━\u001b[0m\u001b[37m\u001b[0m \u001b[1m1s\u001b[0m 932us/step\n",
      "\u001b[1m551/551\u001b[0m \u001b[32m━━━━━━━━━━━━━━━━━━━━\u001b[0m\u001b[37m\u001b[0m \u001b[1m1s\u001b[0m 883us/step\n"
     ]
    },
    {
     "name": "stderr",
     "output_type": "stream",
     "text": [
      "C:\\Users\\waipe\\anaconda3\\Lib\\site-packages\\keras\\src\\layers\\core\\dense.py:87: UserWarning: Do not pass an `input_shape`/`input_dim` argument to a layer. When using Sequential models, prefer using an `Input(shape)` object as the first layer in the model instead.\n",
      "  super().__init__(activity_regularizer=activity_regularizer, **kwargs)\n"
     ]
    },
    {
     "name": "stdout",
     "output_type": "stream",
     "text": [
      "\u001b[1m551/551\u001b[0m \u001b[32m━━━━━━━━━━━━━━━━━━━━\u001b[0m\u001b[37m\u001b[0m \u001b[1m1s\u001b[0m 1ms/step\n",
      "\u001b[1m551/551\u001b[0m \u001b[32m━━━━━━━━━━━━━━━━━━━━\u001b[0m\u001b[37m\u001b[0m \u001b[1m1s\u001b[0m 889us/step\n",
      "\u001b[1m551/551\u001b[0m \u001b[32m━━━━━━━━━━━━━━━━━━━━\u001b[0m\u001b[37m\u001b[0m \u001b[1m1s\u001b[0m 937us/step\n"
     ]
    },
    {
     "name": "stderr",
     "output_type": "stream",
     "text": [
      "C:\\Users\\waipe\\anaconda3\\Lib\\site-packages\\keras\\src\\layers\\core\\dense.py:87: UserWarning: Do not pass an `input_shape`/`input_dim` argument to a layer. When using Sequential models, prefer using an `Input(shape)` object as the first layer in the model instead.\n",
      "  super().__init__(activity_regularizer=activity_regularizer, **kwargs)\n"
     ]
    },
    {
     "name": "stdout",
     "output_type": "stream",
     "text": [
      "\u001b[1m551/551\u001b[0m \u001b[32m━━━━━━━━━━━━━━━━━━━━\u001b[0m\u001b[37m\u001b[0m \u001b[1m1s\u001b[0m 1ms/step\n",
      "\u001b[1m551/551\u001b[0m \u001b[32m━━━━━━━━━━━━━━━━━━━━\u001b[0m\u001b[37m\u001b[0m \u001b[1m1s\u001b[0m 893us/step\n",
      "\u001b[1m551/551\u001b[0m \u001b[32m━━━━━━━━━━━━━━━━━━━━\u001b[0m\u001b[37m\u001b[0m \u001b[1m1s\u001b[0m 876us/step\n"
     ]
    },
    {
     "name": "stderr",
     "output_type": "stream",
     "text": [
      "C:\\Users\\waipe\\anaconda3\\Lib\\site-packages\\keras\\src\\layers\\core\\dense.py:87: UserWarning: Do not pass an `input_shape`/`input_dim` argument to a layer. When using Sequential models, prefer using an `Input(shape)` object as the first layer in the model instead.\n",
      "  super().__init__(activity_regularizer=activity_regularizer, **kwargs)\n"
     ]
    },
    {
     "name": "stdout",
     "output_type": "stream",
     "text": [
      "\u001b[1m551/551\u001b[0m \u001b[32m━━━━━━━━━━━━━━━━━━━━\u001b[0m\u001b[37m\u001b[0m \u001b[1m1s\u001b[0m 1ms/step\n",
      "\u001b[1m551/551\u001b[0m \u001b[32m━━━━━━━━━━━━━━━━━━━━\u001b[0m\u001b[37m\u001b[0m \u001b[1m1s\u001b[0m 914us/step\n",
      "\u001b[1m551/551\u001b[0m \u001b[32m━━━━━━━━━━━━━━━━━━━━\u001b[0m\u001b[37m\u001b[0m \u001b[1m1s\u001b[0m 933us/step\n"
     ]
    },
    {
     "name": "stderr",
     "output_type": "stream",
     "text": [
      "C:\\Users\\waipe\\anaconda3\\Lib\\site-packages\\keras\\src\\layers\\core\\dense.py:87: UserWarning: Do not pass an `input_shape`/`input_dim` argument to a layer. When using Sequential models, prefer using an `Input(shape)` object as the first layer in the model instead.\n",
      "  super().__init__(activity_regularizer=activity_regularizer, **kwargs)\n"
     ]
    },
    {
     "name": "stdout",
     "output_type": "stream",
     "text": [
      "\u001b[1m551/551\u001b[0m \u001b[32m━━━━━━━━━━━━━━━━━━━━\u001b[0m\u001b[37m\u001b[0m \u001b[1m1s\u001b[0m 1ms/step\n",
      "\u001b[1m551/551\u001b[0m \u001b[32m━━━━━━━━━━━━━━━━━━━━\u001b[0m\u001b[37m\u001b[0m \u001b[1m1s\u001b[0m 875us/step\n",
      "\u001b[1m551/551\u001b[0m \u001b[32m━━━━━━━━━━━━━━━━━━━━\u001b[0m\u001b[37m\u001b[0m \u001b[1m0s\u001b[0m 839us/step\n",
      "Speaker Change Detection Analysis Results:\n",
      "\n",
      "Configuration: window_0.5_lag_1\n",
      "Best Threshold: 0.2\n",
      "F1-Score: 0.008061689449702068\n",
      "Precision: 0.004070076092726951\n",
      "Recall: 0.41818181818181815\n",
      "\n",
      "Configuration: window_0.5_lag_2\n",
      "Best Threshold: 0.2\n",
      "F1-Score: 0.008570816370259266\n",
      "Precision: 0.004336513443191674\n",
      "Recall: 0.36363636363636365\n",
      "\n",
      "Configuration: window_0.5_lag_3\n",
      "Best Threshold: 0.15\n",
      "F1-Score: 0.0075115870225347615\n",
      "Precision: 0.003772373384701822\n",
      "Recall: 0.8545454545454545\n",
      "\n",
      "Configuration: window_1.0_lag_1\n",
      "Best Threshold: 0.1\n",
      "F1-Score: 0.0061933976044405495\n",
      "Precision: 0.0031066822977725674\n",
      "Recall: 0.9636363636363636\n",
      "\n",
      "Configuration: window_1.0_lag_2\n",
      "Best Threshold: 0.2\n",
      "F1-Score: 0.008528057308545113\n",
      "Precision: 0.004304407713498623\n",
      "Recall: 0.45454545454545453\n",
      "\n",
      "Configuration: window_1.0_lag_3\n",
      "Best Threshold: 0.15\n",
      "F1-Score: 0.006838850491087668\n",
      "Precision: 0.003433162892622352\n",
      "Recall: 0.8545454545454545\n",
      "\n",
      "Configuration: window_1.5_lag_1\n",
      "Best Threshold: 0.2\n",
      "F1-Score: 0.006888289907157832\n",
      "Precision: 0.003472746489506266\n",
      "Recall: 0.41818181818181815\n",
      "\n",
      "Configuration: window_1.5_lag_2\n",
      "Best Threshold: 0.1\n",
      "F1-Score: 0.006348473480694869\n",
      "Precision: 0.0031843446039833256\n",
      "Recall: 1.0\n",
      "\n",
      "Configuration: window_1.5_lag_3\n",
      "Best Threshold: 0.2\n",
      "F1-Score: 0.008248232521602514\n",
      "Precision: 0.004169148302561048\n",
      "Recall: 0.38181818181818183\n"
     ]
    }
   ],
   "source": [
    "def create_time_lagged_features(df, time_lags=[1, 2, 3]):\n",
    "    feature_columns = [col for col in df.columns if col not in ['file_id', 'timeframe', 'label']]\n",
    "    \n",
    "    lagged_dfs = [df[feature_columns]]\n",
    "    \n",
    "    for lag in time_lags:\n",
    "        lagged_df = df[feature_columns].shift(lag).fillna(0)\n",
    "        lagged_df.columns = [f'{col}_lag_{lag}' for col in lagged_df.columns]\n",
    "        lagged_dfs.append(lagged_df)\n",
    "    \n",
    "    result_df = pd.concat(lagged_dfs, axis=1)\n",
    "    result_df['label'] = df['label']\n",
    "    \n",
    "    return result_df\n",
    "\n",
    "def build_model(input_shape, layers=[128, 64, 32], dropout_rate=0.3):\n",
    "\n",
    "    model = Sequential()\n",
    "    model.add(Dense(layers[0], activation='relu', input_shape=(input_shape,)))\n",
    "    model.add(BatchNormalization())\n",
    "    model.add(Dropout(dropout_rate))\n",
    "    \n",
    "    for neurons in layers[1:]:\n",
    "        model.add(Dense(neurons, activation='relu'))\n",
    "        model.add(BatchNormalization())\n",
    "        model.add(Dropout(dropout_rate))\n",
    "    \n",
    "    model.add(Dense(1, activation='sigmoid'))\n",
    "    \n",
    "    model.compile(optimizer=Adam(learning_rate=0.001),\n",
    "                  loss='binary_crossentropy',\n",
    "                  metrics=['accuracy'])\n",
    "    \n",
    "    return model\n",
    "\n",
    "def analyze_speaker_change_detection(train_df, val_df, test_df, \n",
    "                                     window_sizes=[0.5, 1.0, 1.5], \n",
    "                                     time_lags=[1, 2, 3]):\n",
    "\n",
    "    results = {}\n",
    "    \n",
    "    feature_columns = [col for col in train_df.columns if col not in ['file_id', 'timeframe', 'label']]\n",
    "    \n",
    "    for window_size in window_sizes:\n",
    "        for lag in time_lags:\n",
    "            # Create time-lagged features\n",
    "            train_lagged = create_time_lagged_features(train_df, [lag])\n",
    "            test_lagged = create_time_lagged_features(test_df, [lag])\n",
    "            \n",
    "            # Prepare features and labels\n",
    "            X_train = train_lagged[train_lagged.columns[train_lagged.columns != 'label']]\n",
    "            y_train = train_lagged['label']\n",
    "            X_test = test_lagged[test_lagged.columns[test_lagged.columns != 'label']]\n",
    "            y_test = test_lagged['label']\n",
    "            \n",
    "            # Normalize features\n",
    "            scaler = StandardScaler()\n",
    "            X_train_scaled = scaler.fit_transform(X_train)\n",
    "            X_test_scaled = scaler.transform(X_test)\n",
    "            \n",
    "            # Build and train model\n",
    "            model = build_model(X_train_scaled.shape[1])\n",
    "            history = model.fit(\n",
    "                X_train_scaled, y_train,\n",
    "                validation_split=0.2,\n",
    "                epochs=30,\n",
    "                batch_size=64,\n",
    "                verbose=0\n",
    "            )\n",
    "            \n",
    "            # Predict and evaluate\n",
    "            thresholds = [0.1, 0.15, 0.2]\n",
    "            threshold_results = {}\n",
    "            \n",
    "            for threshold in thresholds:\n",
    "                y_pred = model.predict(X_test_scaled)\n",
    "                y_pred_binary = (y_pred > threshold).astype(int)\n",
    "                \n",
    "                f1 = f1_score(y_test, y_pred_binary)\n",
    "                precision = precision_score(y_test, y_pred_binary)\n",
    "                recall = recall_score(y_test, y_pred_binary)\n",
    "                \n",
    "                threshold_results[threshold] = {\n",
    "                    'f1_score': f1,\n",
    "                    'precision': precision,\n",
    "                    'recall': recall\n",
    "                }\n",
    "            \n",
    "            results[f'window_{window_size}_lag_{lag}'] = {\n",
    "                'thresholds': threshold_results,\n",
    "                'best_threshold': max(threshold_results, key=lambda k: threshold_results[k]['f1_score'])\n",
    "            }\n",
    "    \n",
    "    return results\n",
    "\n",
    "# Run the analysis\n",
    "results = analyze_speaker_change_detection(train_df, val_df, test_df)\n",
    "print(\"Speaker Change Detection Analysis Results:\")\n",
    "for config, metrics in results.items():\n",
    "    print(f\"\\nConfiguration: {config}\")\n",
    "    print(\"Best Threshold:\", metrics['best_threshold'])\n",
    "    best_metrics = metrics['thresholds'][metrics['best_threshold']]\n",
    "    print(\"F1-Score:\", best_metrics['f1_score'])\n",
    "    print(\"Precision:\", best_metrics['precision'])\n",
    "    print(\"Recall:\", best_metrics['recall'])"
   ]
  }
 ],
 "metadata": {
  "kernelspec": {
   "display_name": "Python 3 (ipykernel)",
   "language": "python",
   "name": "python3"
  },
  "language_info": {
   "codemirror_mode": {
    "name": "ipython",
    "version": 3
   },
   "file_extension": ".py",
   "mimetype": "text/x-python",
   "name": "python",
   "nbconvert_exporter": "python",
   "pygments_lexer": "ipython3",
   "version": "3.11.7"
  }
 },
 "nbformat": 4,
 "nbformat_minor": 5
}
